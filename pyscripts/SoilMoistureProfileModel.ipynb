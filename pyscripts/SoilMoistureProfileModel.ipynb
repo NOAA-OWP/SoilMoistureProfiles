{
 "cells": [
  {
   "cell_type": "markdown",
   "id": "fbef108f",
   "metadata": {},
   "source": [
    "### Model was developed to vertically distributed water storage from a conceptual soil reservoir in a soil column\n",
    "#### Clap-Hornberger soil moisture function was used\n",
    "#### Soil properties and storage soil are needed (inputs)\n",
    "\n",
    "##### @Authors Ahmad Jan (ahmad.jan@noaa.gov) and Fred Ogden"
   ]
  },
  {
   "cell_type": "code",
   "execution_count": null,
   "id": "b9b565c7",
   "metadata": {},
   "outputs": [],
   "source": []
  },
  {
   "cell_type": "code",
   "execution_count": 33,
   "id": "b3865afa",
   "metadata": {},
   "outputs": [],
   "source": [
    "import numpy as np\n",
    "from matplotlib import pyplot as plt\n",
    "import matplotlib.animation as animation\n",
    "from matplotlib.animation import FuncAnimation, PillowWriter \n",
    "import sys, os\n",
    "import imageio, re\n",
    "import importlib as imp\n",
    "import copy\n",
    "import pandas as pd"
   ]
  },
  {
   "cell_type": "code",
   "execution_count": null,
   "id": "5071b0b8",
   "metadata": {},
   "outputs": [],
   "source": [
    "# Upload a schematic here"
   ]
  },
  {
   "cell_type": "code",
   "execution_count": null,
   "id": "ebb7e4d1",
   "metadata": {},
   "outputs": [],
   "source": []
  },
  {
   "cell_type": "code",
   "execution_count": 3,
   "id": "954eeb1d",
   "metadata": {},
   "outputs": [],
   "source": [
    "#test values\n",
    "D=200 # soil column depth\n",
    "hb = 35.5  # bubbing/air entry pressure [cm]\n",
    "lam = 0.190476 # pore distribution index\n",
    "phi=  0.439 # soil porosity\n",
    "Vmax = phi * D # maximum soil storage\n",
    "zb = 0   # bottom of the column\n",
    "zi = 0   # water table location\n",
    "z0 = zi - hb # bottom of the fictitious column\n",
    "thetar = 0 # residual water content, not used for Clap-Hornberger function\n"
   ]
  },
  {
   "cell_type": "code",
   "execution_count": 4,
   "id": "a5d4fd09",
   "metadata": {},
   "outputs": [],
   "source": [
    "beta=1.0-lam;\n",
    "alpha=pow(hb,lam)/beta;\n",
    "tol=0.000001;"
   ]
  },
  {
   "cell_type": "code",
   "execution_count": 5,
   "id": "2a251b4f",
   "metadata": {},
   "outputs": [
    {
     "name": "stdout",
     "output_type": "stream",
     "text": [
      "Init mass =  80\n",
      "Vmax = 87.8\n",
      "guess for the init water table loc = -35.5\n"
     ]
    }
   ],
   "source": [
    "V1 = 80 # Initial storage in the column\n",
    "Vinit=V1;\n",
    "V2=V1;  #/* start-up condition before adding any water */\n",
    "print ('Init mass = ', V1)\n",
    "\n",
    "print (\"Vmax =\", Vmax)\n",
    "print (\"guess for the init water table loc =\", z0)\n"
   ]
  },
  {
   "cell_type": "code",
   "execution_count": null,
   "id": "57714a81",
   "metadata": {},
   "outputs": [],
   "source": []
  },
  {
   "cell_type": "code",
   "execution_count": 32,
   "id": "93bb2379",
   "metadata": {},
   "outputs": [
    {
     "name": "stdout",
     "output_type": "stream",
     "text": [
      "Initial mass 80 -2138.1177\n",
      "V2:  80\n",
      "\n",
      "Converged:\n",
      " Iteration = 4 , New WT:  49.0438\n",
      "Mass before =  80 \n",
      "Mass after =  80\n",
      "Mass in top 2 m =  76.6272 Error= -3.372799999999998\n",
      "NOTE: the error is due to numerical integration, higher resolution decreases the error!\n",
      "V2:  40.0\n",
      "\n",
      "Converged:\n",
      " Iteration = 8 , New WT:  -2102.6177\n",
      "Mass before =  80 \n",
      "Mass after =  40.0\n",
      "Mass in top 2 m =  38.0123 Error= -1.9876999999999967\n",
      "NOTE: the error is due to numerical integration, higher resolution decreases the error!\n"
     ]
    }
   ],
   "source": [
    "print ('Initial mass', round(V1,4), round(z0,4))\n",
    "Vinit=V1;\n",
    "V2=V1;  #/* start-up condition before adding any water */\n",
    "Theta_ = []\n",
    "Theta_n = []\n",
    "\n",
    "Z = []\n",
    "mass_added_removed = [0,40.0, -47.0]\n",
    "V2_before = V1\n",
    "\n",
    "for i in range(2):\n",
    "    z0 = 0\n",
    "    zi= z0 + 0.01\n",
    "    theta_temp = []\n",
    "    Z_temp = []\n",
    "    V2_before = V2\n",
    "    \n",
    "    V2 = V2 - mass_added_removed[i]\n",
    "    \n",
    "    count=0;\n",
    "    print (\"V2: \", V2)\n",
    "    if(V2>Vmax):\n",
    "        print ('Max. achieved')\n",
    "        print(\"Cell saturated, program terminated after %d loops \\n\", i)\n",
    "        break\n",
    "    \n",
    "    count = 0\n",
    "    flag = True\n",
    "    \n",
    "    while (flag):\n",
    "        count = count + 1\n",
    "        if(count>30):\n",
    "            flag_nc = True\n",
    "            print(\"no convergence loop count: after 15000 iterations: \",i , count, abs(diff), zi)\n",
    "            break\n",
    "        f= 0\n",
    "        df_dz2 = 0\n",
    "        \n",
    "        fis = phi * (zi - z0) + phi * hb + alpha*(phi-thetar)* ( pow((D-zi),beta) - pow(hb,beta) )\n",
    "        fib = phi * (zi - z0) + phi * hb + alpha*(phi-thetar)* ( pow(abs(zb-zi),beta) - pow(hb,beta) )\n",
    "        \n",
    "        if zi >=0:\n",
    "            fib = 0\n",
    "        f = fis - fib - V2\n",
    "        \n",
    "        #print (count, \"zi = \", round(zi,8), \"f= \",round(f,10), \"fis-fib = \",round(fis - fib,8), \"fis=\",round(fis,8), \n",
    "        #       \"fib=\", round(fib,8), \"z0=\", round(z0,8), \"parts: \", round(phi * (zi - z0),4) , \n",
    "        #       round(alpha*(phi-thetar)*pow((D-zi),beta),4))\n",
    "        \n",
    "        dfis = phi - alpha*(phi-thetar)* beta * pow((D-zi),beta-1.0)\n",
    "        dfib = phi - alpha*(phi-thetar)* beta * pow(abs(zb-zi),beta-1.0)\n",
    "        \n",
    "        \n",
    "         \n",
    "        if zi >=0:\n",
    "            dfib = 0.0\n",
    "        df_dzi = dfis - dfib\n",
    "        # Newton-Raphson scheme\n",
    "        zi_new=zi-f/df_dzi*1.0\n",
    "        diff=zi_new-zi\n",
    "        zi=zi_new\n",
    "        z0 = zi - hb\n",
    "        \n",
    "        if zi >=0:\n",
    "            z0 = zb\n",
    "        \n",
    "        if zi_new > D:\n",
    "            print (\"water table can't exceed surface level\", zi_new, D)\n",
    "            break\n",
    "        if (abs(diff)<tol):\n",
    "            print('\\nConverged:\\n',\"Iteration =\", count, \", New WT: \", round(zi,4))#, \", OWT: \", round(z1,4), \", diff: \", round(z1 - z2,4))\n",
    "            flag = False\n",
    "            break\n",
    "    \n",
    "    #hb_= zi - z0\n",
    "    z=zi +hb\n",
    "    z11=hb\n",
    "    print (\"Mass before = \", round(V2_before,4), \"\\nMass after = \", round(V2,4))\n",
    "    \n",
    "    #dv = (D-z1-hb)/1000\n",
    "    LL = 1000\n",
    "    \n",
    "    dv = (D-zi)/LL\n",
    "    for j in range(LL):\n",
    "        z = z + (D-zi -hb)/LL\n",
    "        z11 = z11 + (D-zi -hb) /LL #(D-zi-hb*0)/LL\n",
    "        \n",
    "        theta= phi * pow((hb/z11),lam) # valid for h > hb\n",
    "        if theta > phi:\n",
    "            theta = phi\n",
    "        theta_temp.append(theta)\n",
    "        Z_temp.append(round(z,4))\n",
    "        #print (round(z,4), round(theta,4))\n",
    "    # store moisture profile for this iteration\n",
    "    Theta_.append(theta_temp)\n",
    "    Z.append(Z_temp)\n",
    "\n",
    "    Zres = np.arange(0.1,2.1,0.1)\n",
    "    #Zres = np.arange(1,201,1)\n",
    "    #Zres = [D - 100*i for i in Zres]\n",
    "    L = len(Zres)\n",
    "    \n",
    "    #****************************************\n",
    "    # Mapping to discretized soil column\n",
    "    theta_temp1 = []\n",
    "    Ztemp3 = []\n",
    "    for i in range(L):\n",
    "        theta = 0\n",
    "        for j in range(LL):\n",
    "            \n",
    "            if D - Zres[i]*100 <= zi+hb:# and Zres[L-2-i] <= z1 +hb :\n",
    "                theta = phi\n",
    "                #print (\"A= \",i, j, theta, Z_temp[j], Zres[i], D-Zres[i], zi+hb, theta)\n",
    "                Ztemp3.append(D-Zres[i]*100)\n",
    "                break\n",
    "            elif ( Z_temp[j] >= D-Zres[i]*100):# and Z_temp[j+1] >= Zres[i]):\n",
    "                theta = round(theta_temp[j],8) \n",
    "                #print (\"B= \",i, j, theta, Z_temp[j],Z_temp[j-1],  D-Zres[i]*100)#, round(zi+hb,4), theta)\n",
    "                Ztemp3.append(Z_temp[j])\n",
    "                break\n",
    "        \n",
    "        theta_temp1.append(theta)\n",
    "    \n",
    "    Theta_n.append(theta_temp1)\n",
    "       \n",
    "    integ1 = np.trapz(Theta_n[-1],x=Zres)\n",
    "    \n",
    "    #print (theta_temp)\n",
    "    print (\"Mass in top 2 m = \",  round(integ1*100,4), \"Error=\", round(integ1*100,4) - V2)\n",
    "    print (\"NOTE: the error is due to numerical integration, higher resolution decreases the error!\")\n",
    "    "
   ]
  },
  {
   "cell_type": "code",
   "execution_count": 22,
   "id": "1e676402",
   "metadata": {},
   "outputs": [
    {
     "name": "stdout",
     "output_type": "stream",
     "text": [
      "[190.0086, 180.0172, 170.0, 160.0, 150.0, 140.0, 130.0, 120.0, 110.0, 100.0, 89.99999999999999, 79.99999999999999, 69.99999999999997, 60.0, 49.99999999999997, 40.0, 29.99999999999997, 19.99999999999997, 10.0, 0.0]\n",
      "[200. 190. 180. 170. 160. 150. 140. 130. 120. 110. 100.  90.  80.  70.\n",
      "  60.  50.  40.  30.  20.  10.]\n"
     ]
    }
   ],
   "source": [
    "print (Ztemp3)\n",
    "print (Zres[::-1]*100)"
   ]
  },
  {
   "cell_type": "code",
   "execution_count": null,
   "id": "d3b48964",
   "metadata": {},
   "outputs": [],
   "source": []
  },
  {
   "cell_type": "code",
   "execution_count": null,
   "id": "ece1ab44",
   "metadata": {},
   "outputs": [],
   "source": []
  },
  {
   "cell_type": "code",
   "execution_count": 23,
   "id": "45f50f6d",
   "metadata": {},
   "outputs": [
    {
     "name": "stdout",
     "output_type": "stream",
     "text": [
      "Initial mass [cm]      =  80\n",
      "Mass added/removed [cm]      =  -7.0\n",
      "Final mass [cm]        =  87.0\n",
      "Area under red curve   =  12.2412\n",
      "Area under green curve =  0.8303\n"
     ]
    },
    {
     "data": {
      "image/png": "[encoded data removed]",
      "text/plain": [
       "<Figure size 432x288 with 1 Axes>"
      ]
     },
     "metadata": {
      "needs_background": "light"
     },
     "output_type": "display_data"
    }
   ],
   "source": [
    "ZresN = [i*100 - Zres[0]*100 for i in Zres[::-1]] \n",
    "# removed Zres[0] for plotting only; Zres and Ztemp3 are not matching for coarse resolutio; using high resolution solves the issue\n",
    "# but computational domain for soil moisture profiles (C++) has coarse discretization\n",
    "\n",
    "plt.plot(Theta_[0],Z[0], \"r\")#,marker='p',markersize=4)\n",
    "plt.plot(Theta_n[0],ZresN, \"g.\")#,linestyle='dashed')\n",
    "\n",
    "#plt.plot(Theta_[1],Z[1], \"r\")\n",
    "#plt.plot(Theta_n[1],ZresN, \"b\",linestyle='dashed')\n",
    "\n",
    "plt.plot(Theta_[-1],Z[-1], \"r\")\n",
    "plt.plot(Theta_n[-1],ZresN, \"g\",linestyle='dashed')\n",
    "\n",
    "plt.axhline(y=0,color='grey',linestyle='dashed')\n",
    "\n",
    "integWT = np.trapz(Theta_[-1],x=Z[-1])\n",
    "integ2m = np.trapz(Theta_n[-1],x=Zres)\n",
    "\n",
    "print (\"Initial mass [cm]      = \", round(Vinit,4))\n",
    "print (\"Mass added/removed [cm]      = \",sum(mass_added_removed))\n",
    "print (\"Final mass [cm]        = \", round(V2,4))\n",
    "print (\"Area under red curve   = \", round(integWT,4))\n",
    "print (\"Area under green curve = \", round(integ2m,4))"
   ]
  },
  {
   "cell_type": "code",
   "execution_count": null,
   "id": "7368abf3",
   "metadata": {},
   "outputs": [],
   "source": []
  },
  {
   "cell_type": "code",
   "execution_count": null,
   "id": "0c694d15",
   "metadata": {},
   "outputs": [],
   "source": []
  },
  {
   "cell_type": "code",
   "execution_count": null,
   "id": "59938c7b",
   "metadata": {},
   "outputs": [],
   "source": []
  }
 ],
 "metadata": {
  "kernelspec": {
   "display_name": "Python 3",
   "language": "python",
   "name": "python3"
  },
  "language_info": {
   "codemirror_mode": {
    "name": "ipython",
    "version": 3
   },
   "file_extension": ".py",
   "mimetype": "text/x-python",
   "name": "python",
   "nbconvert_exporter": "python",
   "pygments_lexer": "ipython3",
   "version": "3.8.8"
  }
 },
 "nbformat": 4,
 "nbformat_minor": 5
}
